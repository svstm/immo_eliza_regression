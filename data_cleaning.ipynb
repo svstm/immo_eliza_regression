{
 "cells": [
  {
   "cell_type": "code",
   "execution_count": 288,
   "metadata": {},
   "outputs": [],
   "source": [
    "import pandas as pd\n",
    "import numpy as np\n",
    "import re\n",
    "import urllib.parse"
   ]
  },
  {
   "cell_type": "code",
   "execution_count": 289,
   "metadata": {},
   "outputs": [
    {
     "name": "stderr",
     "output_type": "stream",
     "text": [
      "/var/folders/9g/mm9pdxg52dn6rg0rtfk14syc0000gn/T/ipykernel_38772/889337693.py:1: DtypeWarning: Columns (102,116,122,123,124,125,126,128,129) have mixed types. Specify dtype option on import or set low_memory=False.\n",
      "  df=pd.read_csv('new_data.csv')\n"
     ]
    }
   ],
   "source": [
    "df=pd.read_csv('new_data.csv')"
   ]
  },
  {
   "cell_type": "code",
   "execution_count": 290,
   "metadata": {},
   "outputs": [
    {
     "data": {
      "text/plain": [
       "Index(['Unnamed: 0', 'Available as of', 'Property name', 'Construction year',\n",
       "       'Floor', 'Number of floors', 'Building condition',\n",
       "       'Number of frontages', 'Covered parking spaces',\n",
       "       'Outdoor parking spaces',\n",
       "       ...\n",
       "       'Percentage rented', 'Age of annuitant', 'EPC description',\n",
       "       'Venue of the sale', 'Single session', 'Terms of visit',\n",
       "       'Starting price', '0', 'Maximum duration of annuity',\n",
       "       'Date of the sale'],\n",
       "      dtype='object', length=130)"
      ]
     },
     "execution_count": 290,
     "metadata": {},
     "output_type": "execute_result"
    }
   ],
   "source": [
    "df.columns"
   ]
  },
  {
   "cell_type": "code",
   "execution_count": 291,
   "metadata": {},
   "outputs": [
    {
     "data": {
      "text/plain": [
       "(19291, 130)"
      ]
     },
     "execution_count": 291,
     "metadata": {},
     "output_type": "execute_result"
    }
   ],
   "source": [
    "df.shape"
   ]
  },
  {
   "cell_type": "code",
   "execution_count": 292,
   "metadata": {},
   "outputs": [],
   "source": [
    "filtered_columns=[\"Unnamed: 0\", \"Zip-code\", \"City\", \"Type of Property\", \n",
    "                  \"Subtype of Property\", \"Price\", \"Construction year\", \"Bedrooms\",\"Living area\",\n",
    "                  \"Kitchen type\", \"Furnished\", \"How many fireplaces?\", \"Terrace\",\"Terrace surface\",\n",
    "                  \"Garden\",\"Garden surface\",\"Surface of the plot\",\"Number of frontages\",\n",
    "                  \"Swimming pool\", \"Building condition\", \"Elevator\", \"Basement\",\n",
    "                  \"Primary energy consumption\",\"CO₂ emission\", \"Energy class\", \"Heating type\"]\n",
    "    \n",
    "df = df[filtered_columns]"
   ]
  },
  {
   "cell_type": "code",
   "execution_count": 293,
   "metadata": {},
   "outputs": [],
   "source": [
    "df=df.drop_duplicates()"
   ]
  },
  {
   "cell_type": "code",
   "execution_count": 294,
   "metadata": {},
   "outputs": [],
   "source": [
    "df=df.rename(columns = {'Unnamed: 0':'Property ID', 'Zip-code':'Zip code'})"
   ]
  },
  {
   "cell_type": "code",
   "execution_count": 295,
   "metadata": {},
   "outputs": [],
   "source": [
    "df=df.rename(columns = {'Price':'Price (€)', 'Living area':'Living area (m²)', 'Terrace surface':'Terrace surface (m²)', \n",
    "                        'Garden surface':'Garden surface (m²)', 'Surface of the plot': 'Surface of the plot (m²)', \n",
    "                        'Primary energy consumption':'Primary energy consumption (kWh/m²)', 'CO₂ emission':'CO₂ emission (kg CO₂/m²)',\n",
    "                          })"
   ]
  },
  {
   "cell_type": "code",
   "execution_count": 296,
   "metadata": {},
   "outputs": [],
   "source": [
    "df=df.drop_duplicates()"
   ]
  },
  {
   "cell_type": "code",
   "execution_count": 297,
   "metadata": {},
   "outputs": [],
   "source": [
    "df['How many fireplaces?']=df['How many fireplaces?'].replace(np.nan,0,regex=True)\n",
    "df['How many fireplaces?']=df['How many fireplaces?'].replace('Yes',1,regex=True)\n",
    "df['How many fireplaces?']=df['How many fireplaces?'].replace('No',0,regex=True)\n",
    "df['Swimming pool']=df['Swimming pool'].replace(np.nan,0,regex=True)\n",
    "df['Swimming pool']=df['Swimming pool'].replace('Yes',1,regex=True)\n",
    "df['Swimming pool']=df['Swimming pool'].replace('No',0,regex=True)\n",
    "df['Elevator']=df['Elevator'].replace(np.nan,0,regex=True)\n",
    "df['Elevator']=df['Elevator'].replace('Yes',1,regex=True)\n",
    "df['Elevator']=df['Elevator'].replace('No',0,regex=True)\n",
    "df['Basement']=df['Basement'].replace(np.nan,0,regex=True)\n",
    "df['Basement']=df['Basement'].replace('Yes',1,regex=True)\n",
    "df['Basement']=df['Basement'].replace('No',0,regex=True)\n",
    "df['Furnished']=df['Furnished'].replace(np.nan,0,regex=True)\n",
    "df['Furnished']=df['Furnished'].replace('Yes',1,regex=True)\n",
    "df['Furnished']=df['Furnished'].replace('No',0,regex=True)\n"
   ]
  },
  {
   "cell_type": "code",
   "execution_count": 298,
   "metadata": {},
   "outputs": [],
   "source": [
    "df=df.dropna(subset=['Price (€)', 'Bedrooms', 'Living area (m²)', 'Subtype of Property'])\n"
   ]
  },
  {
   "cell_type": "code",
   "execution_count": 299,
   "metadata": {},
   "outputs": [],
   "source": [
    "df['Price (€)'] = df['Price (€)'].str.split(' ').str[-2]\n",
    "df['Price (€)'] = pd.to_numeric(df['Price (€)'])\n",
    "df['Living area (m²)'] = df['Living area (m²)'].str.split(' ').str[0]\n",
    "df['Garden surface (m²)'] = df['Garden surface (m²)'].str.split(' ').str[0]\n",
    "df['Terrace surface (m²)'] = df['Terrace surface (m²)'].str.split(' ').str[0]\n",
    "df['Surface of the plot (m²)'] = df['Surface of the plot (m²)'].str.split(' ').str[0]\n",
    "df['Primary energy consumption (kWh/m²)'] = df['Primary energy consumption (kWh/m²)'].str.split(' ').str[0]\n",
    "df['CO₂ emission (kg CO₂/m²)'] = df['CO₂ emission (kg CO₂/m²)'].str.split(' ').str[0]"
   ]
  },
  {
   "cell_type": "code",
   "execution_count": 300,
   "metadata": {},
   "outputs": [],
   "source": [
    "filter_G = df[\"Garden surface (m²)\"].isnull()\n",
    "df.loc[~filter_G,'Garden'] = 'Yes'\n",
    "df.loc[df['Garden'] == 'Yes', 'Garden'] = 1\n",
    "df.loc[df[\"Garden\"].isnull(), 'Garden'] = 0\n",
    "df.loc[df[\"Garden surface (m²)\"].isnull(), 'Garden surface (m²)'] = 0"
   ]
  },
  {
   "cell_type": "code",
   "execution_count": 301,
   "metadata": {},
   "outputs": [],
   "source": [
    "filter_G = df[\"Terrace surface (m²)\"].isnull()\n",
    "df.loc[~filter_G,'Terrace'] = 'Yes'\n",
    "df.loc[df['Terrace'] == 'Yes', 'Terrace'] = 1\n",
    "df.loc[df[\"Terrace\"].isnull(), 'Terrace'] = 0\n",
    "df.loc[df[\"Terrace surface (m²)\"].isnull(), 'Terrace surface (m²)'] = 0"
   ]
  },
  {
   "cell_type": "code",
   "execution_count": 302,
   "metadata": {},
   "outputs": [],
   "source": [
    "df['Primary energy consumption (kWh/m²)']=df['Primary energy consumption (kWh/m²)'].replace('Not',np.nan)\n",
    "df['CO₂ emission (kg CO₂/m²)']=df['CO₂ emission (kg CO₂/m²)'].replace('Not',np.nan)\n",
    "df['Energy class']=df['Energy class'].replace('Not',np.nan)"
   ]
  },
  {
   "cell_type": "code",
   "execution_count": 303,
   "metadata": {},
   "outputs": [],
   "source": [
    "df = df.astype({\"Living area (m²)\":\"float\", \"Terrace\":\"float\", \"Garden\":\"float\",\n",
    "                \"Terrace surface (m²)\":\"float\",\n",
    "                \"Garden surface (m²)\":\"float\",\"Surface of the plot (m²)\":\"float\",\n",
    "                \"Primary energy consumption (kWh/m²)\":\"float\", \n",
    "                \"CO₂ emission (kg CO₂/m²)\":\"float\"})"
   ]
  },
  {
   "cell_type": "code",
   "execution_count": 304,
   "metadata": {},
   "outputs": [],
   "source": [
    "df['Energy class']=df['Energy class'].replace('Not specified',np.nan)"
   ]
  },
  {
   "cell_type": "code",
   "execution_count": 305,
   "metadata": {},
   "outputs": [],
   "source": [
    "kitchen_type_scale={'USA hyper equipped':3, 'USA installed':2, 'USA semi equipped':1, 'USA uninstalled':0,\n",
    " 'Hyper equipped':3, 'Installed':2, 'Semi equipped':1, 'Not installed':0}\n",
    "\n",
    "df['Kitchen type scale'] = df['Kitchen type'].map(kitchen_type_scale)"
   ]
  },
  {
   "cell_type": "code",
   "execution_count": 306,
   "metadata": {},
   "outputs": [],
   "source": [
    "building_condition_scale={'As new':6,'Just renovated':5, 'Good':4, 'To renovate':2,\n",
    " 'To restore':1, 'To be done up':3}\n",
    "\n",
    "df['Building condition scale'] = df['Building condition'].map(building_condition_scale)"
   ]
  },
  {
   "cell_type": "code",
   "execution_count": 307,
   "metadata": {},
   "outputs": [],
   "source": [
    "def clean_city_name(city):\n",
    "    # Remove quotes\n",
    "    city = city.replace('\"', '')\n",
    "    # Decode URL encoding\n",
    "    city = urllib.parse.unquote(city)\n",
    "    return city\n",
    "\n",
    "df['City'] = df['City'].apply(clean_city_name)"
   ]
  },
  {
   "cell_type": "code",
   "execution_count": 308,
   "metadata": {},
   "outputs": [],
   "source": [
    "df = df.applymap(lambda x: x.strip() if isinstance(x, str) else x)"
   ]
  },
  {
   "cell_type": "code",
   "execution_count": 309,
   "metadata": {},
   "outputs": [],
   "source": [
    "df.drop(df[df[\"Zip code\"].str.contains(\"%20\")].index,inplace=True)\n",
    "df.drop(df[df['Zip code'].str.len() == 5 ].index,inplace=True)\n",
    "df['Zip code'] = pd.to_numeric(df['Zip code'])\n",
    "filter_zip = (df['Zip code'] >= 1000) & (df['Zip code'] <= 9999)\n",
    "df.drop(df.loc[~filter_zip,'Zip code'].index,inplace=True)"
   ]
  },
  {
   "cell_type": "code",
   "execution_count": 310,
   "metadata": {},
   "outputs": [],
   "source": [
    "filt_b = (df['Zip code'] >= 1000) & (df['Zip code'] <= 1299)\n",
    "df.loc[filt_b,'Region'] = 'Brussels capital region'\n",
    "filt_w = ((df['Zip code'] >= 1300) & (df['Zip code'] <= 1499)) | ((df['Zip code'] >=4000) & (df['Zip code'] <=7999))\n",
    "df.loc[filt_w,'Region'] = 'Walloon'\n",
    "filt_f = ((df['Zip code'] >= 1500) & (df['Zip code'] <= 3999)) | ((df['Zip code'] >=8000) & (df['Zip code'] <=9999))\n",
    "df.loc[filt_f,'Region'] = 'Flemish'"
   ]
  },
  {
   "cell_type": "code",
   "execution_count": 311,
   "metadata": {},
   "outputs": [],
   "source": [
    "df = df.drop(df.loc[df['Price (€)'] == 35000000].index)\n",
    "df = df.drop(df.loc[df['Living area (m²)'] == 1.0].index)"
   ]
  },
  {
   "cell_type": "code",
   "execution_count": 312,
   "metadata": {},
   "outputs": [
    {
     "data": {
      "text/plain": [
       "0        2986.0\n",
       "1        7021.0\n",
       "2        5300.0\n",
       "3        1980.0\n",
       "4        3011.0\n",
       "          ...  \n",
       "19285    2491.0\n",
       "19286    2491.0\n",
       "19287    2936.0\n",
       "19289    2429.0\n",
       "19290    1935.0\n",
       "Name: Price per m², Length: 15146, dtype: float64"
      ]
     },
     "execution_count": 312,
     "metadata": {},
     "output_type": "execute_result"
    }
   ],
   "source": [
    "df['Price per m²'] = df['Price (€)']/df['Living area (m²)']\n",
    "df['Price per m²'].round()"
   ]
  },
  {
   "cell_type": "code",
   "execution_count": 286,
   "metadata": {},
   "outputs": [],
   "source": [
    "df=df.drop_duplicates()"
   ]
  },
  {
   "cell_type": "code",
   "execution_count": 287,
   "metadata": {},
   "outputs": [],
   "source": [
    "df.to_csv(\"updated_cleaned_data.csv\", index=False)"
   ]
  }
 ],
 "metadata": {
  "kernelspec": {
   "display_name": "venv",
   "language": "python",
   "name": "python3"
  },
  "language_info": {
   "codemirror_mode": {
    "name": "ipython",
    "version": 3
   },
   "file_extension": ".py",
   "mimetype": "text/x-python",
   "name": "python",
   "nbconvert_exporter": "python",
   "pygments_lexer": "ipython3",
   "version": "3.11.3"
  },
  "orig_nbformat": 4
 },
 "nbformat": 4,
 "nbformat_minor": 2
}
