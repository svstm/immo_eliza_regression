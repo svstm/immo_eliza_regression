{
 "cells": [
  {
   "cell_type": "code",
   "execution_count": 2,
   "metadata": {},
   "outputs": [],
   "source": [
    "import pandas as pd\n",
    "import numpy as np\n",
    "import seaborn as sns\n",
    "import matplotlib.pyplot as plt"
   ]
  },
  {
   "cell_type": "code",
   "execution_count": 3,
   "metadata": {},
   "outputs": [],
   "source": [
    "from pandas import read_csv\n",
    "from sklearn.model_selection import train_test_split\n",
    "from sklearn.metrics import classification_report\n",
    "from sklearn.metrics import confusion_matrix\n",
    "from sklearn.metrics import accuracy_score\n"
   ]
  },
  {
   "cell_type": "code",
   "execution_count": 4,
   "metadata": {},
   "outputs": [],
   "source": [
    "df = pd.read_csv('updated_cleaned_data.csv')"
   ]
  },
  {
   "cell_type": "code",
   "execution_count": 5,
   "metadata": {},
   "outputs": [
    {
     "data": {
      "text/plain": [
       "(15146, 30)"
      ]
     },
     "execution_count": 5,
     "metadata": {},
     "output_type": "execute_result"
    }
   ],
   "source": [
    "df.shape"
   ]
  },
  {
   "cell_type": "code",
   "execution_count": 6,
   "metadata": {},
   "outputs": [
    {
     "data": {
      "text/html": [
       "<div>\n",
       "<style scoped>\n",
       "    .dataframe tbody tr th:only-of-type {\n",
       "        vertical-align: middle;\n",
       "    }\n",
       "\n",
       "    .dataframe tbody tr th {\n",
       "        vertical-align: top;\n",
       "    }\n",
       "\n",
       "    .dataframe thead th {\n",
       "        text-align: right;\n",
       "    }\n",
       "</style>\n",
       "<table border=\"1\" class=\"dataframe\">\n",
       "  <thead>\n",
       "    <tr style=\"text-align: right;\">\n",
       "      <th></th>\n",
       "      <th>Property ID</th>\n",
       "      <th>Zip code</th>\n",
       "      <th>City</th>\n",
       "      <th>Type of Property</th>\n",
       "      <th>Subtype of Property</th>\n",
       "      <th>Price (€)</th>\n",
       "      <th>Construction year</th>\n",
       "      <th>Bedrooms</th>\n",
       "      <th>Living area (m²)</th>\n",
       "      <th>Kitchen type</th>\n",
       "      <th>...</th>\n",
       "      <th>Elevator</th>\n",
       "      <th>Basement</th>\n",
       "      <th>Primary energy consumption (kWh/m²)</th>\n",
       "      <th>CO₂ emission (kg CO₂/m²)</th>\n",
       "      <th>Energy class</th>\n",
       "      <th>Heating type</th>\n",
       "      <th>Kitchen type scale</th>\n",
       "      <th>Building condition scale</th>\n",
       "      <th>Region</th>\n",
       "      <th>Price per m²</th>\n",
       "    </tr>\n",
       "  </thead>\n",
       "  <tbody>\n",
       "    <tr>\n",
       "      <th>0</th>\n",
       "      <td>10583186</td>\n",
       "      <td>1341</td>\n",
       "      <td>céroux-mousty</td>\n",
       "      <td>apartment</td>\n",
       "      <td>duplex</td>\n",
       "      <td>415000</td>\n",
       "      <td>2016.0</td>\n",
       "      <td>2.0</td>\n",
       "      <td>139.0</td>\n",
       "      <td>USA hyper equipped</td>\n",
       "      <td>...</td>\n",
       "      <td>1</td>\n",
       "      <td>0</td>\n",
       "      <td>116.0</td>\n",
       "      <td>NaN</td>\n",
       "      <td>B</td>\n",
       "      <td>Gas</td>\n",
       "      <td>3.0</td>\n",
       "      <td>6.0</td>\n",
       "      <td>Walloon</td>\n",
       "      <td>2985.611511</td>\n",
       "    </tr>\n",
       "    <tr>\n",
       "      <th>1</th>\n",
       "      <td>10463775</td>\n",
       "      <td>1180</td>\n",
       "      <td>uccle</td>\n",
       "      <td>apartment</td>\n",
       "      <td>penthouse</td>\n",
       "      <td>1650000</td>\n",
       "      <td>2021.0</td>\n",
       "      <td>3.0</td>\n",
       "      <td>235.0</td>\n",
       "      <td>USA hyper equipped</td>\n",
       "      <td>...</td>\n",
       "      <td>1</td>\n",
       "      <td>1</td>\n",
       "      <td>62.0</td>\n",
       "      <td>9.0</td>\n",
       "      <td>B</td>\n",
       "      <td>Gas</td>\n",
       "      <td>3.0</td>\n",
       "      <td>6.0</td>\n",
       "      <td>Brussels capital region</td>\n",
       "      <td>7021.276596</td>\n",
       "    </tr>\n",
       "    <tr>\n",
       "      <th>2</th>\n",
       "      <td>10582739</td>\n",
       "      <td>1180</td>\n",
       "      <td>uccle</td>\n",
       "      <td>apartment</td>\n",
       "      <td>flat studio</td>\n",
       "      <td>159000</td>\n",
       "      <td>1977.0</td>\n",
       "      <td>1.0</td>\n",
       "      <td>30.0</td>\n",
       "      <td>Installed</td>\n",
       "      <td>...</td>\n",
       "      <td>1</td>\n",
       "      <td>0</td>\n",
       "      <td>316.0</td>\n",
       "      <td>NaN</td>\n",
       "      <td>F</td>\n",
       "      <td>Electric</td>\n",
       "      <td>2.0</td>\n",
       "      <td>4.0</td>\n",
       "      <td>Brussels capital region</td>\n",
       "      <td>5300.000000</td>\n",
       "    </tr>\n",
       "    <tr>\n",
       "      <th>3</th>\n",
       "      <td>10582752</td>\n",
       "      <td>4300</td>\n",
       "      <td>waremme</td>\n",
       "      <td>house</td>\n",
       "      <td>mansion</td>\n",
       "      <td>495000</td>\n",
       "      <td>1918.0</td>\n",
       "      <td>6.0</td>\n",
       "      <td>250.0</td>\n",
       "      <td>Installed</td>\n",
       "      <td>...</td>\n",
       "      <td>0</td>\n",
       "      <td>0</td>\n",
       "      <td>130.0</td>\n",
       "      <td>25.0</td>\n",
       "      <td>B</td>\n",
       "      <td>Gas</td>\n",
       "      <td>2.0</td>\n",
       "      <td>6.0</td>\n",
       "      <td>Walloon</td>\n",
       "      <td>1980.000000</td>\n",
       "    </tr>\n",
       "    <tr>\n",
       "      <th>4</th>\n",
       "      <td>10579605</td>\n",
       "      <td>1332</td>\n",
       "      <td>rixensart genval</td>\n",
       "      <td>house</td>\n",
       "      <td>villa</td>\n",
       "      <td>530000</td>\n",
       "      <td>1928.0</td>\n",
       "      <td>4.0</td>\n",
       "      <td>176.0</td>\n",
       "      <td>USA hyper equipped</td>\n",
       "      <td>...</td>\n",
       "      <td>0</td>\n",
       "      <td>1</td>\n",
       "      <td>394.0</td>\n",
       "      <td>69.0</td>\n",
       "      <td>E</td>\n",
       "      <td>Gas</td>\n",
       "      <td>3.0</td>\n",
       "      <td>4.0</td>\n",
       "      <td>Walloon</td>\n",
       "      <td>3011.363636</td>\n",
       "    </tr>\n",
       "  </tbody>\n",
       "</table>\n",
       "<p>5 rows × 30 columns</p>\n",
       "</div>"
      ],
      "text/plain": [
       "   Property ID  Zip code              City Type of Property   \n",
       "0     10583186      1341     céroux-mousty        apartment  \\\n",
       "1     10463775      1180             uccle        apartment   \n",
       "2     10582739      1180             uccle        apartment   \n",
       "3     10582752      4300           waremme            house   \n",
       "4     10579605      1332  rixensart genval            house   \n",
       "\n",
       "  Subtype of Property  Price (€)  Construction year  Bedrooms   \n",
       "0              duplex     415000             2016.0       2.0  \\\n",
       "1           penthouse    1650000             2021.0       3.0   \n",
       "2         flat studio     159000             1977.0       1.0   \n",
       "3             mansion     495000             1918.0       6.0   \n",
       "4               villa     530000             1928.0       4.0   \n",
       "\n",
       "   Living area (m²)        Kitchen type  ...  Elevator  Basement   \n",
       "0             139.0  USA hyper equipped  ...         1         0  \\\n",
       "1             235.0  USA hyper equipped  ...         1         1   \n",
       "2              30.0           Installed  ...         1         0   \n",
       "3             250.0           Installed  ...         0         0   \n",
       "4             176.0  USA hyper equipped  ...         0         1   \n",
       "\n",
       "   Primary energy consumption (kWh/m²)  CO₂ emission (kg CO₂/m²)   \n",
       "0                                116.0                       NaN  \\\n",
       "1                                 62.0                       9.0   \n",
       "2                                316.0                       NaN   \n",
       "3                                130.0                      25.0   \n",
       "4                                394.0                      69.0   \n",
       "\n",
       "   Energy class  Heating type  Kitchen type scale  Building condition scale   \n",
       "0             B           Gas                 3.0                       6.0  \\\n",
       "1             B           Gas                 3.0                       6.0   \n",
       "2             F      Electric                 2.0                       4.0   \n",
       "3             B           Gas                 2.0                       6.0   \n",
       "4             E           Gas                 3.0                       4.0   \n",
       "\n",
       "                    Region Price per m²  \n",
       "0                  Walloon  2985.611511  \n",
       "1  Brussels capital region  7021.276596  \n",
       "2  Brussels capital region  5300.000000  \n",
       "3                  Walloon  1980.000000  \n",
       "4                  Walloon  3011.363636  \n",
       "\n",
       "[5 rows x 30 columns]"
      ]
     },
     "execution_count": 6,
     "metadata": {},
     "output_type": "execute_result"
    }
   ],
   "source": [
    "df.head(5)"
   ]
  },
  {
   "cell_type": "code",
   "execution_count": 7,
   "metadata": {},
   "outputs": [
    {
     "data": {
      "text/html": [
       "<div>\n",
       "<style scoped>\n",
       "    .dataframe tbody tr th:only-of-type {\n",
       "        vertical-align: middle;\n",
       "    }\n",
       "\n",
       "    .dataframe tbody tr th {\n",
       "        vertical-align: top;\n",
       "    }\n",
       "\n",
       "    .dataframe thead th {\n",
       "        text-align: right;\n",
       "    }\n",
       "</style>\n",
       "<table border=\"1\" class=\"dataframe\">\n",
       "  <thead>\n",
       "    <tr style=\"text-align: right;\">\n",
       "      <th></th>\n",
       "      <th>Property ID</th>\n",
       "      <th>Zip code</th>\n",
       "      <th>Price (€)</th>\n",
       "      <th>Construction year</th>\n",
       "      <th>Bedrooms</th>\n",
       "      <th>Living area (m²)</th>\n",
       "      <th>Furnished</th>\n",
       "      <th>How many fireplaces?</th>\n",
       "      <th>Terrace</th>\n",
       "      <th>Terrace surface (m²)</th>\n",
       "      <th>...</th>\n",
       "      <th>Surface of the plot (m²)</th>\n",
       "      <th>Number of frontages</th>\n",
       "      <th>Swimming pool</th>\n",
       "      <th>Elevator</th>\n",
       "      <th>Basement</th>\n",
       "      <th>Primary energy consumption (kWh/m²)</th>\n",
       "      <th>CO₂ emission (kg CO₂/m²)</th>\n",
       "      <th>Kitchen type scale</th>\n",
       "      <th>Building condition scale</th>\n",
       "      <th>Price per m²</th>\n",
       "    </tr>\n",
       "  </thead>\n",
       "  <tbody>\n",
       "    <tr>\n",
       "      <th>count</th>\n",
       "      <td>1.514600e+04</td>\n",
       "      <td>15146.000000</td>\n",
       "      <td>1.514600e+04</td>\n",
       "      <td>9869.000000</td>\n",
       "      <td>15146.000000</td>\n",
       "      <td>15146.000000</td>\n",
       "      <td>15146.000000</td>\n",
       "      <td>15146.000000</td>\n",
       "      <td>15146.000000</td>\n",
       "      <td>15146.000000</td>\n",
       "      <td>...</td>\n",
       "      <td>9.278000e+03</td>\n",
       "      <td>11826.000000</td>\n",
       "      <td>15146.000000</td>\n",
       "      <td>15146.000000</td>\n",
       "      <td>15146.000000</td>\n",
       "      <td>12316.000000</td>\n",
       "      <td>3533.000000</td>\n",
       "      <td>10515.000000</td>\n",
       "      <td>11537.000000</td>\n",
       "      <td>15146.000000</td>\n",
       "    </tr>\n",
       "    <tr>\n",
       "      <th>mean</th>\n",
       "      <td>1.048171e+07</td>\n",
       "      <td>4730.376997</td>\n",
       "      <td>5.747720e+05</td>\n",
       "      <td>1974.064039</td>\n",
       "      <td>3.455368</td>\n",
       "      <td>216.771623</td>\n",
       "      <td>0.028126</td>\n",
       "      <td>0.071042</td>\n",
       "      <td>0.654628</td>\n",
       "      <td>13.431335</td>\n",
       "      <td>...</td>\n",
       "      <td>2.730509e+03</td>\n",
       "      <td>2.976662</td>\n",
       "      <td>0.048198</td>\n",
       "      <td>0.202232</td>\n",
       "      <td>0.366037</td>\n",
       "      <td>364.700850</td>\n",
       "      <td>964.125389</td>\n",
       "      <td>2.077889</td>\n",
       "      <td>4.371067</td>\n",
       "      <td>2851.903016</td>\n",
       "    </tr>\n",
       "    <tr>\n",
       "      <th>std</th>\n",
       "      <td>2.006246e+05</td>\n",
       "      <td>3068.621752</td>\n",
       "      <td>6.294464e+05</td>\n",
       "      <td>41.303004</td>\n",
       "      <td>1.986556</td>\n",
       "      <td>207.577870</td>\n",
       "      <td>0.165339</td>\n",
       "      <td>0.284467</td>\n",
       "      <td>0.475505</td>\n",
       "      <td>33.391814</td>\n",
       "      <td>...</td>\n",
       "      <td>2.994844e+04</td>\n",
       "      <td>0.928913</td>\n",
       "      <td>0.214190</td>\n",
       "      <td>0.401677</td>\n",
       "      <td>0.481736</td>\n",
       "      <td>1685.733557</td>\n",
       "      <td>4797.448186</td>\n",
       "      <td>0.795365</td>\n",
       "      <td>1.351608</td>\n",
       "      <td>1952.818111</td>\n",
       "    </tr>\n",
       "    <tr>\n",
       "      <th>min</th>\n",
       "      <td>4.611027e+06</td>\n",
       "      <td>1000.000000</td>\n",
       "      <td>1.900000e+04</td>\n",
       "      <td>1753.000000</td>\n",
       "      <td>1.000000</td>\n",
       "      <td>14.000000</td>\n",
       "      <td>0.000000</td>\n",
       "      <td>0.000000</td>\n",
       "      <td>0.000000</td>\n",
       "      <td>0.000000</td>\n",
       "      <td>...</td>\n",
       "      <td>1.000000e+00</td>\n",
       "      <td>1.000000</td>\n",
       "      <td>0.000000</td>\n",
       "      <td>0.000000</td>\n",
       "      <td>0.000000</td>\n",
       "      <td>-10.000000</td>\n",
       "      <td>-4.000000</td>\n",
       "      <td>0.000000</td>\n",
       "      <td>1.000000</td>\n",
       "      <td>31.500414</td>\n",
       "    </tr>\n",
       "    <tr>\n",
       "      <th>25%</th>\n",
       "      <td>1.047028e+07</td>\n",
       "      <td>1950.000000</td>\n",
       "      <td>2.736112e+05</td>\n",
       "      <td>1956.000000</td>\n",
       "      <td>2.000000</td>\n",
       "      <td>114.000000</td>\n",
       "      <td>0.000000</td>\n",
       "      <td>0.000000</td>\n",
       "      <td>0.000000</td>\n",
       "      <td>0.000000</td>\n",
       "      <td>...</td>\n",
       "      <td>2.600000e+02</td>\n",
       "      <td>2.000000</td>\n",
       "      <td>0.000000</td>\n",
       "      <td>0.000000</td>\n",
       "      <td>0.000000</td>\n",
       "      <td>176.000000</td>\n",
       "      <td>41.000000</td>\n",
       "      <td>2.000000</td>\n",
       "      <td>4.000000</td>\n",
       "      <td>1839.464286</td>\n",
       "    </tr>\n",
       "    <tr>\n",
       "      <th>50%</th>\n",
       "      <td>1.056160e+07</td>\n",
       "      <td>3970.000000</td>\n",
       "      <td>3.950000e+05</td>\n",
       "      <td>1978.000000</td>\n",
       "      <td>3.000000</td>\n",
       "      <td>170.000000</td>\n",
       "      <td>0.000000</td>\n",
       "      <td>0.000000</td>\n",
       "      <td>1.000000</td>\n",
       "      <td>0.000000</td>\n",
       "      <td>...</td>\n",
       "      <td>6.590000e+02</td>\n",
       "      <td>3.000000</td>\n",
       "      <td>0.000000</td>\n",
       "      <td>0.000000</td>\n",
       "      <td>0.000000</td>\n",
       "      <td>272.000000</td>\n",
       "      <td>67.000000</td>\n",
       "      <td>2.000000</td>\n",
       "      <td>4.000000</td>\n",
       "      <td>2485.829030</td>\n",
       "    </tr>\n",
       "    <tr>\n",
       "      <th>75%</th>\n",
       "      <td>1.057395e+07</td>\n",
       "      <td>8300.000000</td>\n",
       "      <td>6.350000e+05</td>\n",
       "      <td>2007.000000</td>\n",
       "      <td>4.000000</td>\n",
       "      <td>254.000000</td>\n",
       "      <td>0.000000</td>\n",
       "      <td>0.000000</td>\n",
       "      <td>1.000000</td>\n",
       "      <td>16.000000</td>\n",
       "      <td>...</td>\n",
       "      <td>1.447750e+03</td>\n",
       "      <td>4.000000</td>\n",
       "      <td>0.000000</td>\n",
       "      <td>0.000000</td>\n",
       "      <td>1.000000</td>\n",
       "      <td>406.000000</td>\n",
       "      <td>111.000000</td>\n",
       "      <td>3.000000</td>\n",
       "      <td>6.000000</td>\n",
       "      <td>3290.448718</td>\n",
       "    </tr>\n",
       "    <tr>\n",
       "      <th>max</th>\n",
       "      <td>1.058496e+07</td>\n",
       "      <td>9992.000000</td>\n",
       "      <td>1.100000e+07</td>\n",
       "      <td>2033.000000</td>\n",
       "      <td>32.000000</td>\n",
       "      <td>11000.000000</td>\n",
       "      <td>1.000000</td>\n",
       "      <td>6.000000</td>\n",
       "      <td>1.000000</td>\n",
       "      <td>1500.000000</td>\n",
       "      <td>...</td>\n",
       "      <td>2.400000e+06</td>\n",
       "      <td>14.000000</td>\n",
       "      <td>1.000000</td>\n",
       "      <td>1.000000</td>\n",
       "      <td>1.000000</td>\n",
       "      <td>85624.000000</td>\n",
       "      <td>88028.000000</td>\n",
       "      <td>3.000000</td>\n",
       "      <td>6.000000</td>\n",
       "      <td>58823.523529</td>\n",
       "    </tr>\n",
       "  </tbody>\n",
       "</table>\n",
       "<p>8 rows × 22 columns</p>\n",
       "</div>"
      ],
      "text/plain": [
       "        Property ID      Zip code     Price (€)  Construction year   \n",
       "count  1.514600e+04  15146.000000  1.514600e+04        9869.000000  \\\n",
       "mean   1.048171e+07   4730.376997  5.747720e+05        1974.064039   \n",
       "std    2.006246e+05   3068.621752  6.294464e+05          41.303004   \n",
       "min    4.611027e+06   1000.000000  1.900000e+04        1753.000000   \n",
       "25%    1.047028e+07   1950.000000  2.736112e+05        1956.000000   \n",
       "50%    1.056160e+07   3970.000000  3.950000e+05        1978.000000   \n",
       "75%    1.057395e+07   8300.000000  6.350000e+05        2007.000000   \n",
       "max    1.058496e+07   9992.000000  1.100000e+07        2033.000000   \n",
       "\n",
       "           Bedrooms  Living area (m²)     Furnished  How many fireplaces?   \n",
       "count  15146.000000      15146.000000  15146.000000          15146.000000  \\\n",
       "mean       3.455368        216.771623      0.028126              0.071042   \n",
       "std        1.986556        207.577870      0.165339              0.284467   \n",
       "min        1.000000         14.000000      0.000000              0.000000   \n",
       "25%        2.000000        114.000000      0.000000              0.000000   \n",
       "50%        3.000000        170.000000      0.000000              0.000000   \n",
       "75%        4.000000        254.000000      0.000000              0.000000   \n",
       "max       32.000000      11000.000000      1.000000              6.000000   \n",
       "\n",
       "            Terrace  Terrace surface (m²)  ...  Surface of the plot (m²)   \n",
       "count  15146.000000          15146.000000  ...              9.278000e+03  \\\n",
       "mean       0.654628             13.431335  ...              2.730509e+03   \n",
       "std        0.475505             33.391814  ...              2.994844e+04   \n",
       "min        0.000000              0.000000  ...              1.000000e+00   \n",
       "25%        0.000000              0.000000  ...              2.600000e+02   \n",
       "50%        1.000000              0.000000  ...              6.590000e+02   \n",
       "75%        1.000000             16.000000  ...              1.447750e+03   \n",
       "max        1.000000           1500.000000  ...              2.400000e+06   \n",
       "\n",
       "       Number of frontages  Swimming pool      Elevator      Basement   \n",
       "count         11826.000000   15146.000000  15146.000000  15146.000000  \\\n",
       "mean              2.976662       0.048198      0.202232      0.366037   \n",
       "std               0.928913       0.214190      0.401677      0.481736   \n",
       "min               1.000000       0.000000      0.000000      0.000000   \n",
       "25%               2.000000       0.000000      0.000000      0.000000   \n",
       "50%               3.000000       0.000000      0.000000      0.000000   \n",
       "75%               4.000000       0.000000      0.000000      1.000000   \n",
       "max              14.000000       1.000000      1.000000      1.000000   \n",
       "\n",
       "       Primary energy consumption (kWh/m²)  CO₂ emission (kg CO₂/m²)   \n",
       "count                         12316.000000               3533.000000  \\\n",
       "mean                            364.700850                964.125389   \n",
       "std                            1685.733557               4797.448186   \n",
       "min                             -10.000000                 -4.000000   \n",
       "25%                             176.000000                 41.000000   \n",
       "50%                             272.000000                 67.000000   \n",
       "75%                             406.000000                111.000000   \n",
       "max                           85624.000000              88028.000000   \n",
       "\n",
       "       Kitchen type scale  Building condition scale  Price per m²  \n",
       "count        10515.000000              11537.000000  15146.000000  \n",
       "mean             2.077889                  4.371067   2851.903016  \n",
       "std              0.795365                  1.351608   1952.818111  \n",
       "min              0.000000                  1.000000     31.500414  \n",
       "25%              2.000000                  4.000000   1839.464286  \n",
       "50%              2.000000                  4.000000   2485.829030  \n",
       "75%              3.000000                  6.000000   3290.448718  \n",
       "max              3.000000                  6.000000  58823.523529  \n",
       "\n",
       "[8 rows x 22 columns]"
      ]
     },
     "execution_count": 7,
     "metadata": {},
     "output_type": "execute_result"
    }
   ],
   "source": [
    "df.describe()"
   ]
  },
  {
   "cell_type": "code",
   "execution_count": 8,
   "metadata": {},
   "outputs": [
    {
     "data": {
      "text/plain": [
       "Price (€)\n",
       "19000       1\n",
       "20000       2\n",
       "25000       1\n",
       "35000       1\n",
       "39000       1\n",
       "           ..\n",
       "8000000     4\n",
       "8100000     1\n",
       "8500000     3\n",
       "9999999     2\n",
       "11000000    1\n",
       "Length: 1744, dtype: int64"
      ]
     },
     "execution_count": 8,
     "metadata": {},
     "output_type": "execute_result"
    }
   ],
   "source": [
    "df.groupby('Price (€)').size()"
   ]
  },
  {
   "cell_type": "code",
   "execution_count": 9,
   "metadata": {},
   "outputs": [],
   "source": [
    "from pandas.plotting import scatter_matrix\n",
    "from matplotlib import pyplot"
   ]
  },
  {
   "cell_type": "code",
   "execution_count": 10,
   "metadata": {},
   "outputs": [],
   "source": [
    "#scatter_matrix(df)\n",
    "#pyplot.show()"
   ]
  },
  {
   "cell_type": "code",
   "execution_count": 11,
   "metadata": {},
   "outputs": [],
   "source": [
    "array = df.values"
   ]
  },
  {
   "cell_type": "code",
   "execution_count": 12,
   "metadata": {},
   "outputs": [],
   "source": [
    "#X = array[:,8]\n",
    "#, 'Swimming pool', 'Bedrooms','Terrace surface (m²)', 'Garden surface (m²)'"
   ]
  },
  {
   "cell_type": "code",
   "execution_count": 13,
   "metadata": {},
   "outputs": [],
   "source": [
    "# X = df[['Construction year', 'Bedrooms',\n",
    "#        'Living area (m²)', 'Furnished', 'How many fireplaces?',\n",
    "#        'Terrace', 'Terrace surface (m²)', 'Garden', 'Garden surface (m²)',\n",
    "#        'Number of frontages', 'Swimming pool',\n",
    "#        'Elevator', 'Basement', \n",
    "#        'Primary energy consumption (kWh/m²)', 'CO₂ emission (kg CO₂/m²)',\n",
    "#        'Kitchen type scale',\n",
    "#        'Building condition scale']].values\n",
    "X = df[['Construction year', 'Bedrooms',\n",
    "       'Living area (m²)', 'Furnished', 'How many fireplaces?',\n",
    "       'Terrace', 'Terrace surface (m²)', 'Garden', 'Garden surface (m²)',\n",
    "       'Number of frontages', 'Swimming pool',\n",
    "       'Elevator', 'Basement', \n",
    "       'Primary energy consumption (kWh/m²)']].values\n",
    "#'CO₂ emission (kg CO₂/m²)','Kitchen type scale','Building condition scale',"
   ]
  },
  {
   "cell_type": "code",
   "execution_count": 14,
   "metadata": {},
   "outputs": [
    {
     "data": {
      "text/plain": [
       "array([[2.016e+03, 2.000e+00, 1.390e+02, ..., 1.000e+00, 0.000e+00,\n",
       "        1.160e+02],\n",
       "       [2.021e+03, 3.000e+00, 2.350e+02, ..., 1.000e+00, 1.000e+00,\n",
       "        6.200e+01],\n",
       "       [1.977e+03, 1.000e+00, 3.000e+01, ..., 1.000e+00, 0.000e+00,\n",
       "        3.160e+02],\n",
       "       ...,\n",
       "       [      nan, 1.000e+00, 7.800e+01, ..., 0.000e+00, 0.000e+00,\n",
       "        3.260e+02],\n",
       "       [      nan, 1.000e+00, 7.000e+01, ..., 1.000e+00, 0.000e+00,\n",
       "        2.780e+02],\n",
       "       [1.960e+03, 4.000e+00, 1.700e+02, ..., 0.000e+00, 1.000e+00,\n",
       "        7.280e+02]])"
      ]
     },
     "execution_count": 14,
     "metadata": {},
     "output_type": "execute_result"
    }
   ],
   "source": [
    "X"
   ]
  },
  {
   "cell_type": "code",
   "execution_count": 15,
   "metadata": {},
   "outputs": [],
   "source": [
    "y = df['Price (€)'].values"
   ]
  },
  {
   "cell_type": "code",
   "execution_count": 16,
   "metadata": {},
   "outputs": [
    {
     "data": {
      "text/plain": [
       "array([ 415000, 1650000,  159000, ...,  229000,  170000,  329000],\n",
       "      dtype=int64)"
      ]
     },
     "execution_count": 16,
     "metadata": {},
     "output_type": "execute_result"
    }
   ],
   "source": [
    "y"
   ]
  },
  {
   "cell_type": "code",
   "execution_count": 17,
   "metadata": {},
   "outputs": [],
   "source": [
    "X_train, X_validation, Y_train, Y_validation = train_test_split(X, y, test_size=0.20, random_state=1)"
   ]
  },
  {
   "cell_type": "code",
   "execution_count": 18,
   "metadata": {},
   "outputs": [],
   "source": [
    "from pandas import read_csv\n",
    "from pandas.plotting import scatter_matrix\n",
    "from matplotlib import pyplot\n",
    "from sklearn.model_selection import train_test_split\n",
    "from sklearn.model_selection import cross_val_score\n",
    "from sklearn.model_selection import StratifiedKFold\n",
    "from sklearn.metrics import classification_report\n",
    "from sklearn.metrics import confusion_matrix\n",
    "from sklearn.metrics import accuracy_score\n",
    "from sklearn.linear_model import LogisticRegression\n",
    "from sklearn.tree import DecisionTreeClassifier\n",
    "from sklearn.neighbors import KNeighborsClassifier\n",
    "from sklearn.discriminant_analysis import LinearDiscriminantAnalysis\n",
    "from sklearn.naive_bayes import GaussianNB\n",
    "from sklearn.svm import SVC"
   ]
  },
  {
   "cell_type": "code",
   "execution_count": 19,
   "metadata": {},
   "outputs": [],
   "source": [
    "# # Загружаем алгоритмы модели\n",
    "# models = []\n",
    "# models.append(('LR', LogisticRegression(solver='liblinear', multi_class='ovr')))\n",
    "# models.append(('LDA', LinearDiscriminantAnalysis()))\n",
    "# models.append(('KNN', KNeighborsClassifier()))\n",
    "# models.append(('CART', DecisionTreeClassifier()))\n",
    "# models.append(('NB', GaussianNB()))\n",
    "# models.append(('SVM', SVC(gamma='auto')))\n",
    "\n",
    "# # оцениваем модель на каждой итерации\n",
    "# results = []\n",
    "# names = []\n",
    "\n",
    "# for name, model in models:\n",
    "# \tkfold = StratifiedKFold(n_splits=10, random_state=1, shuffle=True)\n",
    "# \tcv_results = cross_val_score(model, X_train, Y_train, cv=kfold, scoring='accuracy')\n",
    "# \tresults.append(cv_results)\n",
    "# \tnames.append(name)\n",
    "# \tprint('%s: %f (%f)' % (name, cv_results.mean(), cv_results.std()))"
   ]
  },
  {
   "cell_type": "code",
   "execution_count": 24,
   "metadata": {},
   "outputs": [],
   "source": [
    "from sklearn.linear_model import LinearRegression"
   ]
  },
  {
   "cell_type": "code",
   "execution_count": 29,
   "metadata": {},
   "outputs": [],
   "source": [
    "reg_all = LinearRegression()\n",
    "reg_all.fit(X_train, Y_train)\n",
    "y_pred = reg_all.predict(X_validation)\n"
   ]
  },
  {
   "cell_type": "code",
   "execution_count": 30,
   "metadata": {},
   "outputs": [
    {
     "data": {
      "text/plain": [
       "0.3965166160427025"
      ]
     },
     "execution_count": 30,
     "metadata": {},
     "output_type": "execute_result"
    }
   ],
   "source": [
    "reg_all.score(X_validation, Y_validation)"
   ]
  },
  {
   "cell_type": "code",
   "execution_count": 31,
   "metadata": {},
   "outputs": [
    {
     "data": {
      "image/png": "[encoded data removed]",
      "text/plain": [
       "<Figure size 700x700 with 1 Axes>"
      ]
     },
     "metadata": {},
     "output_type": "display_data"
    }
   ],
   "source": [
    "plt.figure(figsize=(7, 7))\n",
    "plt.scatter(Y_validation, y_pred)\n",
    "# plt.scatter(test_values, test_predictions_linear) # рисуем точки, соответствущие парам настоящее значение - прогноз\n",
    "plt.plot([0, 6 * 10**6], [0, 6 * 10**6]) # рисуем прямую, на которой предсказания и настоящие значения совпадают\n",
    "plt.xlabel('Real price', fontsize=20)\n",
    "plt.ylabel('Predict price', fontsize=20);\n"
   ]
  },
  {
   "cell_type": "code",
   "execution_count": 32,
   "metadata": {},
   "outputs": [
    {
     "data": {
      "text/plain": [
       "array([[2.024e+03, 3.000e+00, 1.590e+02, ..., 0.000e+00, 0.000e+00,\n",
       "        0.000e+00],\n",
       "       [0.000e+00, 3.000e+00, 1.450e+02, ..., 0.000e+00, 0.000e+00,\n",
       "        0.000e+00],\n",
       "       [0.000e+00, 5.000e+00, 4.290e+02, ..., 0.000e+00, 1.000e+00,\n",
       "        5.410e+02],\n",
       "       ...,\n",
       "       [1.980e+03, 3.000e+00, 1.850e+02, ..., 0.000e+00, 0.000e+00,\n",
       "        2.820e+02],\n",
       "       [2.012e+03, 2.000e+00, 8.500e+01, ..., 0.000e+00, 1.000e+00,\n",
       "        2.270e+02],\n",
       "       [2.007e+03, 2.000e+00, 1.000e+02, ..., 1.000e+00, 1.000e+00,\n",
       "        2.390e+02]])"
      ]
     },
     "execution_count": 32,
     "metadata": {},
     "output_type": "execute_result"
    }
   ],
   "source": [
    "X_train = np.nan_to_num(X_train, nan=0.0)\n",
    "X_validation = np.nan_to_num(X_validation, nan=0.0)\n",
    "X_train \n"
   ]
  },
  {
   "cell_type": "code",
   "execution_count": 33,
   "metadata": {},
   "outputs": [
    {
     "data": {
      "text/plain": [
       "array([[1.994e+03, 5.000e+00, 5.270e+02, ..., 0.000e+00, 1.000e+00,\n",
       "        1.990e+02],\n",
       "       [0.000e+00, 3.000e+00, 1.300e+02, ..., 0.000e+00, 0.000e+00,\n",
       "        0.000e+00],\n",
       "       [2.010e+03, 3.000e+00, 1.850e+02, ..., 0.000e+00, 0.000e+00,\n",
       "        1.500e+02],\n",
       "       ...,\n",
       "       [0.000e+00, 8.000e+00, 4.000e+02, ..., 0.000e+00, 0.000e+00,\n",
       "        2.670e+02],\n",
       "       [1.913e+03, 6.000e+00, 5.400e+02, ..., 0.000e+00, 1.000e+00,\n",
       "        2.550e+02],\n",
       "       [1.978e+03, 4.000e+00, 1.560e+02, ..., 0.000e+00, 1.000e+00,\n",
       "        4.360e+02]])"
      ]
     },
     "execution_count": 33,
     "metadata": {},
     "output_type": "execute_result"
    }
   ],
   "source": [
    "X_validation"
   ]
  },
  {
   "cell_type": "code",
   "execution_count": 34,
   "metadata": {},
   "outputs": [],
   "source": [
    "from sklearn.ensemble import RandomForestRegressor\n",
    "\n",
    "forest = RandomForestRegressor()\n",
    "forest.fit(X_train, Y_train)\n",
    "forest.score(X_validation, Y_validation)\n",
    "\n",
    "#y_pred = reg_all.predict(X_validation)\n",
    "y_pred = forest.predict(X_validation)"
   ]
  },
  {
   "cell_type": "code",
   "execution_count": 35,
   "metadata": {},
   "outputs": [
    {
     "data": {
      "text/plain": [
       "0.5360219136348905"
      ]
     },
     "execution_count": 35,
     "metadata": {},
     "output_type": "execute_result"
    }
   ],
   "source": [
    "forest.score(X_validation, Y_validation)"
   ]
  },
  {
   "cell_type": "code",
   "execution_count": 36,
   "metadata": {},
   "outputs": [
    {
     "data": {
      "image/png": "[encoded data removed]",
      "text/plain": [
       "<Figure size 700x700 with 1 Axes>"
      ]
     },
     "metadata": {},
     "output_type": "display_data"
    }
   ],
   "source": [
    "\n",
    "plt.figure(figsize=(7, 7))\n",
    "plt.scatter(Y_validation, y_pred)\n",
    "# plt.scatter(test_values, test_predictions_linear) # рисуем точки, соответствущие парам настоящее значение - прогноз\n",
    "plt.plot([0, 6 * 10**6], [0, 6 * 10**6]) # рисуем прямую, на которой предсказания и настоящие значения совпадают\n",
    "plt.xlabel('Real price', fontsize=20)\n",
    "plt.ylabel('Predict price', fontsize=20);"
   ]
  }
 ],
 "metadata": {
  "kernelspec": {
   "display_name": "Python 3",
   "language": "python",
   "name": "python3"
  },
  "language_info": {
   "codemirror_mode": {
    "name": "ipython",
    "version": 3
   },
   "file_extension": ".py",
   "mimetype": "text/x-python",
   "name": "python",
   "nbconvert_exporter": "python",
   "pygments_lexer": "ipython3",
   "version": "3.11.3"
  },
  "orig_nbformat": 4
 },
 "nbformat": 4,
 "nbformat_minor": 2
}
