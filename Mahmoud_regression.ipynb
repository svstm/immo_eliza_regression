{
 "cells": [
  {
   "cell_type": "code",
   "execution_count": null,
   "id": "d4855b49",
   "metadata": {},
   "outputs": [],
   "source": [
    "import pandas as pd\n",
    "import numpy as np\n",
    "import re\n",
    "import urllib.parse"
   ]
  },
  {
   "cell_type": "code",
   "execution_count": null,
   "id": "b59e20e9",
   "metadata": {},
   "outputs": [],
   "source": [
    "df=pd.read_csv('new_data.csv')"
   ]
  },
  {
   "cell_type": "code",
   "execution_count": null,
   "id": "4fd6bb11",
   "metadata": {},
   "outputs": [],
   "source": [
    "df.columns"
   ]
  },
  {
   "cell_type": "code",
   "execution_count": null,
   "id": "ca35af3f",
   "metadata": {},
   "outputs": [],
   "source": [
    "df.shape"
   ]
  },
  {
   "cell_type": "code",
   "execution_count": null,
   "id": "8c30ee0b",
   "metadata": {},
   "outputs": [],
   "source": [
    "filtered_columns=[\"Unnamed: 0\", \"Zip-code\", \"City\", \"Type of Property\", \n",
    "                  \"Subtype of Property\", \"Price\", \"Construction year\", \"Bedrooms\",\"Living area\",\n",
    "                  \"Kitchen type\", \"Furnished\", \"How many fireplaces?\", \"Terrace\",\"Terrace surface\",\n",
    "                  \"Garden\",\"Garden surface\",\"Surface of the plot\",\"Number of frontages\",\n",
    "                  \"Swimming pool\", \"Building condition\", \"Elevator\", \"Basement\",\n",
    "                  \"Primary energy consumption\",\"CO₂ emission\", \"Energy class\", \"Heating type\"]\n",
    "    \n",
    "df = df[filtered_columns]"
   ]
  },
  {
   "cell_type": "code",
   "execution_count": null,
   "id": "39aeaf97",
   "metadata": {},
   "outputs": [],
   "source": [
    "df=df.drop_duplicates()"
   ]
  },
  {
   "cell_type": "code",
   "execution_count": null,
   "id": "9a115466",
   "metadata": {},
   "outputs": [],
   "source": [
    "df=df.rename(columns = {'Unnamed: 0':'Property ID', 'Zip-code':'Zip code'})"
   ]
  },
  {
   "cell_type": "code",
   "execution_count": null,
   "id": "1748a870",
   "metadata": {},
   "outputs": [],
   "source": [
    "df=df.rename(columns = {'Price':'Price (€)', 'Living area':'Living area (m²)', 'Terrace surface':'Terrace surface (m²)', \n",
    "                        'Garden surface':'Garden surface (m²)', 'Surface of the plot': 'Surface of the plot (m²)', \n",
    "                        'Primary energy consumption':'Primary energy consumption (kWh/m²)', 'CO₂ emission':'CO₂ emission (kg CO₂/m²)',\n",
    "                          })"
   ]
  },
  {
   "cell_type": "code",
   "execution_count": null,
   "id": "6ceb4996",
   "metadata": {},
   "outputs": [],
   "source": [
    "df=df.drop_duplicates()"
   ]
  },
  {
   "cell_type": "code",
   "execution_count": null,
   "id": "4f80aa2f",
   "metadata": {},
   "outputs": [],
   "source": [
    "df['How many fireplaces?']=df['How many fireplaces?'].replace(np.nan,0,regex=True)\n",
    "df['How many fireplaces?']=df['How many fireplaces?'].replace('Yes',1,regex=True)\n",
    "df['How many fireplaces?']=df['How many fireplaces?'].replace('No',0,regex=True)\n",
    "df['Swimming pool']=df['Swimming pool'].replace(np.nan,0,regex=True)\n",
    "df['Swimming pool']=df['Swimming pool'].replace('Yes',1,regex=True)\n",
    "df['Swimming pool']=df['Swimming pool'].replace('No',0,regex=True)\n",
    "df['Elevator']=df['Elevator'].replace(np.nan,0,regex=True)\n",
    "df['Elevator']=df['Elevator'].replace('Yes',1,regex=True)\n",
    "df['Elevator']=df['Elevator'].replace('No',0,regex=True)\n",
    "df['Basement']=df['Basement'].replace(np.nan,0,regex=True)\n",
    "df['Basement']=df['Basement'].replace('Yes',1,regex=True)\n",
    "df['Basement']=df['Basement'].replace('No',0,regex=True)\n",
    "df['Furnished']=df['Furnished'].replace(np.nan,0,regex=True)\n",
    "df['Furnished']=df['Furnished'].replace('Yes',1,regex=True)\n",
    "df['Furnished']=df['Furnished'].replace('No',0,regex=True)"
   ]
  },
  {
   "cell_type": "code",
   "execution_count": null,
   "id": "579afabe",
   "metadata": {},
   "outputs": [],
   "source": [
    "df=df.dropna(subset=['Price (€)', 'Bedrooms', 'Living area (m²)', 'Subtype of Property'])"
   ]
  },
  {
   "cell_type": "code",
   "execution_count": null,
   "id": "81f79817",
   "metadata": {},
   "outputs": [],
   "source": [
    "df['Price (€)'] = df['Price (€)'].str.split(' ').str[-2]\n",
    "df['Price (€)'] = pd.to_numeric(df['Price (€)'])\n",
    "df['Living area (m²)'] = df['Living area (m²)'].str.split(' ').str[0]\n",
    "df['Garden surface (m²)'] = df['Garden surface (m²)'].str.split(' ').str[0]\n",
    "df['Terrace surface (m²)'] = df['Terrace surface (m²)'].str.split(' ').str[0]\n",
    "df['Surface of the plot (m²)'] = df['Surface of the plot (m²)'].str.split(' ').str[0]\n",
    "df['Primary energy consumption (kWh/m²)'] = df['Primary energy consumption (kWh/m²)'].str.split(' ').str[0]\n",
    "df['CO₂ emission (kg CO₂/m²)'] = df['CO₂ emission (kg CO₂/m²)'].str.split(' ').str[0]"
   ]
  },
  {
   "cell_type": "code",
   "execution_count": null,
   "id": "239084c7",
   "metadata": {},
   "outputs": [],
   "source": [
    "filter_G = df[\"Garden surface (m²)\"].isnull()\n",
    "df.loc[~filter_G,'Garden'] = 'Yes'\n",
    "df.loc[df['Garden'] == 'Yes', 'Garden'] = 1\n",
    "df.loc[df[\"Garden\"].isnull(), 'Garden'] = 0\n",
    "df.loc[df[\"Garden surface (m²)\"].isnull(), 'Garden surface (m²)'] = 0"
   ]
  },
  {
   "cell_type": "code",
   "execution_count": null,
   "id": "b7fe1346",
   "metadata": {},
   "outputs": [],
   "source": [
    "filter_G = df[\"Terrace surface (m²)\"].isnull()\n",
    "df.loc[~filter_G,'Terrace'] = 'Yes'\n",
    "df.loc[df['Terrace'] == 'Yes', 'Terrace'] = 1\n",
    "df.loc[df[\"Terrace\"].isnull(), 'Terrace'] = 0\n",
    "df.loc[df[\"Terrace surface (m²)\"].isnull(), 'Terrace surface (m²)'] = 0"
   ]
  },
  {
   "cell_type": "code",
   "execution_count": null,
   "id": "f8ae3151",
   "metadata": {},
   "outputs": [],
   "source": [
    "df['Primary energy consumption (kWh/m²)']=df['Primary energy consumption (kWh/m²)'].replace('Not',np.nan)\n",
    "df['CO₂ emission (kg CO₂/m²)']=df['CO₂ emission (kg CO₂/m²)'].replace('Not',np.nan)\n",
    "df['Energy class']=df['Energy class'].replace('Not',np.nan)"
   ]
  },
  {
   "cell_type": "code",
   "execution_count": null,
   "id": "8ee7d707",
   "metadata": {},
   "outputs": [],
   "source": [
    "df = df.astype({\"Living area (m²)\":\"float\", \"Terrace\":\"float\", \"Garden\":\"float\",\n",
    "                \"Terrace surface (m²)\":\"float\",\n",
    "                \"Garden surface (m²)\":\"float\",\"Surface of the plot (m²)\":\"float\",\n",
    "                \"Primary energy consumption (kWh/m²)\":\"float\", \n",
    "                \"CO₂ emission (kg CO₂/m²)\":\"float\"})"
   ]
  },
  {
   "cell_type": "code",
   "execution_count": null,
   "id": "810c4719",
   "metadata": {},
   "outputs": [],
   "source": [
    "df['Energy class']=df['Energy class'].replace('Not specified',np.nan)"
   ]
  },
  {
   "cell_type": "code",
   "execution_count": null,
   "id": "fba15480",
   "metadata": {},
   "outputs": [],
   "source": [
    "kitchen_type_scale={'USA hyper equipped':3, 'USA installed':2, 'USA semi equipped':1, 'USA uninstalled':0,\n",
    " 'Hyper equipped':3, 'Installed':2, 'Semi equipped':1, 'Not installed':0}\n",
    "\n",
    "df['Kitchen type scale'] = df['Kitchen type'].map(kitchen_type_scale)"
   ]
  },
  {
   "cell_type": "code",
   "execution_count": null,
   "id": "258c0ad8",
   "metadata": {},
   "outputs": [],
   "source": [
    "building_condition_scale={'As new':6,'Just renovated':5, 'Good':4, 'To renovate':2,\n",
    " 'To restore':1, 'To be done up':3}\n",
    "\n",
    "df['Building condition scale'] = df['Building condition'].map(building_condition_scale)"
   ]
  },
  {
   "cell_type": "code",
   "execution_count": null,
   "id": "e5147dd9",
   "metadata": {},
   "outputs": [],
   "source": [
    "def clean_city_name(city):\n",
    "    # Remove quotes\n",
    "    city = city.replace('\"', '')\n",
    "    # Decode URL encoding\n",
    "    city = urllib.parse.unquote(city)\n",
    "    return city\n",
    "\n",
    "df['City'] = df['City'].apply(clean_city_name)"
   ]
  },
  {
   "cell_type": "code",
   "execution_count": null,
   "id": "caf4889d",
   "metadata": {},
   "outputs": [],
   "source": [
    "df = df.applymap(lambda x: x.strip() if isinstance(x, str) else x)"
   ]
  },
  {
   "cell_type": "code",
   "execution_count": null,
   "id": "e3f7982c",
   "metadata": {},
   "outputs": [],
   "source": [
    "df.drop(df[df[\"Zip code\"].str.contains(\"%20\")].index,inplace=True)\n",
    "df.drop(df[df['Zip code'].str.len() == 5 ].index,inplace=True)\n",
    "df['Zip code'] = pd.to_numeric(df['Zip code'])\n",
    "filter_zip = (df['Zip code'] >= 1000) & (df['Zip code'] <= 9999)\n",
    "df.drop(df.loc[~filter_zip,'Zip code'].index,inplace=True)"
   ]
  },
  {
   "cell_type": "code",
   "execution_count": null,
   "id": "c42c064a",
   "metadata": {},
   "outputs": [],
   "source": [
    "filt_b = (df['Zip code'] >= 1000) & (df['Zip code'] <= 1299)\n",
    "df.loc[filt_b,'Region'] = 'Brussels capital region'\n",
    "filt_w = ((df['Zip code'] >= 1300) & (df['Zip code'] <= 1499)) | ((df['Zip code'] >=4000) & (df['Zip code'] <=7999))\n",
    "df.loc[filt_w,'Region'] = 'Walloon'\n",
    "filt_f = ((df['Zip code'] >= 1500) & (df['Zip code'] <= 3999)) | ((df['Zip code'] >=8000) & (df['Zip code'] <=9999))\n",
    "df.loc[filt_f,'Region'] = 'Flemish'"
   ]
  },
  {
   "cell_type": "code",
   "execution_count": null,
   "id": "6d177723",
   "metadata": {},
   "outputs": [],
   "source": [
    "df = df.drop(df.loc[df['Price (€)'] == 35000000].index)\n",
    "df = df.drop(df.loc[df['Living area (m²)'] == 1.0].index)"
   ]
  },
  {
   "cell_type": "code",
   "execution_count": null,
   "id": "ce1f5633",
   "metadata": {},
   "outputs": [],
   "source": [
    "df['Price per m²'] = df['Price (€)']/df['Living area (m²)']\n",
    "df['Price per m²'].round()"
   ]
  },
  {
   "cell_type": "code",
   "execution_count": null,
   "id": "a2839212",
   "metadata": {},
   "outputs": [],
   "source": [
    "df=df.drop_duplicates()"
   ]
  },
  {
   "cell_type": "code",
   "execution_count": null,
   "id": "513d05da",
   "metadata": {},
   "outputs": [],
   "source": [
    "#df.to_csv(\"updated_cleaned_data.csv\", index=False)"
   ]
  },
  {
   "cell_type": "code",
   "execution_count": null,
   "id": "e5becc6c",
   "metadata": {},
   "outputs": [],
   "source": [
    "# # Import necessary modules\n",
    "# from sklearn.linear_model import LinearRegression\n",
    "# from sklearn.metrics import mean_squared_error\n",
    "# from sklearn.model_selection import train_test_split\n",
    "\n",
    "# # Create training and test sets\n",
    "# X_train, X_test, y_train, y_test = train_test_split( X, y, test_size = 0.3, random_state=42)\n",
    "\n",
    "# # Create the regressor: reg_all\n",
    "# reg_all = LinearRegression()\n",
    "\n",
    "# # Fit the regressor to the training data\n",
    "# reg_all.fit(X_train,y_train)\n",
    "\n",
    "# # Predict on the test data: y_pred\n",
    "# y_pred = reg_all.predict(X_test)\n",
    "\n",
    "# # Compute and print R^2 and RMSE\n",
    "# print(\"R^2: {}\".format(reg_all.score(X_test, y_test)))\n",
    "# rmse = np.sqrt(mean_squared_error(y_test, y_pred))\n",
    "# print(\"Root Mean Squared Error: {}\".format(rmse))\n"
   ]
  },
  {
   "cell_type": "code",
   "execution_count": null,
   "id": "27c772ac",
   "metadata": {},
   "outputs": [],
   "source": []
  },
  {
   "cell_type": "code",
   "execution_count": 5,
   "id": "495c1b9c",
   "metadata": {},
   "outputs": [
    {
     "data": {
      "text/html": [
       "<div>\n",
       "<style scoped>\n",
       "    .dataframe tbody tr th:only-of-type {\n",
       "        vertical-align: middle;\n",
       "    }\n",
       "\n",
       "    .dataframe tbody tr th {\n",
       "        vertical-align: top;\n",
       "    }\n",
       "\n",
       "    .dataframe thead th {\n",
       "        text-align: right;\n",
       "    }\n",
       "</style>\n",
       "<table border=\"1\" class=\"dataframe\">\n",
       "  <thead>\n",
       "    <tr style=\"text-align: right;\">\n",
       "      <th></th>\n",
       "      <th>Property ID</th>\n",
       "      <th>Zip code</th>\n",
       "      <th>Price (€)</th>\n",
       "      <th>Construction year</th>\n",
       "      <th>Bedrooms</th>\n",
       "      <th>Living area (m²)</th>\n",
       "      <th>Furnished</th>\n",
       "      <th>How many fireplaces?</th>\n",
       "      <th>Terrace</th>\n",
       "      <th>Terrace surface (m²)</th>\n",
       "      <th>...</th>\n",
       "      <th>Surface of the plot (m²)</th>\n",
       "      <th>Number of frontages</th>\n",
       "      <th>Swimming pool</th>\n",
       "      <th>Elevator</th>\n",
       "      <th>Basement</th>\n",
       "      <th>Primary energy consumption (kWh/m²)</th>\n",
       "      <th>CO₂ emission (kg CO₂/m²)</th>\n",
       "      <th>Kitchen type scale</th>\n",
       "      <th>Building condition scale</th>\n",
       "      <th>Price per m²</th>\n",
       "    </tr>\n",
       "  </thead>\n",
       "  <tbody>\n",
       "    <tr>\n",
       "      <th>count</th>\n",
       "      <td>15146.0</td>\n",
       "      <td>15146.0</td>\n",
       "      <td>15146.0</td>\n",
       "      <td>9869.0</td>\n",
       "      <td>15146.0</td>\n",
       "      <td>15146.0</td>\n",
       "      <td>15146.0</td>\n",
       "      <td>15146.0</td>\n",
       "      <td>15146.0</td>\n",
       "      <td>15146.0</td>\n",
       "      <td>...</td>\n",
       "      <td>9278.0</td>\n",
       "      <td>11826.0</td>\n",
       "      <td>15146.0</td>\n",
       "      <td>15146.0</td>\n",
       "      <td>15146.0</td>\n",
       "      <td>12316.0</td>\n",
       "      <td>3533.0</td>\n",
       "      <td>10515.0</td>\n",
       "      <td>11537.0</td>\n",
       "      <td>15146.0</td>\n",
       "    </tr>\n",
       "    <tr>\n",
       "      <th>mean</th>\n",
       "      <td>10481706.0</td>\n",
       "      <td>4730.0</td>\n",
       "      <td>574772.0</td>\n",
       "      <td>1974.0</td>\n",
       "      <td>3.0</td>\n",
       "      <td>217.0</td>\n",
       "      <td>0.0</td>\n",
       "      <td>0.0</td>\n",
       "      <td>1.0</td>\n",
       "      <td>13.0</td>\n",
       "      <td>...</td>\n",
       "      <td>2731.0</td>\n",
       "      <td>3.0</td>\n",
       "      <td>0.0</td>\n",
       "      <td>0.0</td>\n",
       "      <td>0.0</td>\n",
       "      <td>365.0</td>\n",
       "      <td>964.0</td>\n",
       "      <td>2.0</td>\n",
       "      <td>4.0</td>\n",
       "      <td>2852.0</td>\n",
       "    </tr>\n",
       "    <tr>\n",
       "      <th>std</th>\n",
       "      <td>200625.0</td>\n",
       "      <td>3069.0</td>\n",
       "      <td>629446.0</td>\n",
       "      <td>41.0</td>\n",
       "      <td>2.0</td>\n",
       "      <td>208.0</td>\n",
       "      <td>0.0</td>\n",
       "      <td>0.0</td>\n",
       "      <td>0.0</td>\n",
       "      <td>33.0</td>\n",
       "      <td>...</td>\n",
       "      <td>29948.0</td>\n",
       "      <td>1.0</td>\n",
       "      <td>0.0</td>\n",
       "      <td>0.0</td>\n",
       "      <td>0.0</td>\n",
       "      <td>1686.0</td>\n",
       "      <td>4797.0</td>\n",
       "      <td>1.0</td>\n",
       "      <td>1.0</td>\n",
       "      <td>1953.0</td>\n",
       "    </tr>\n",
       "    <tr>\n",
       "      <th>min</th>\n",
       "      <td>4611027.0</td>\n",
       "      <td>1000.0</td>\n",
       "      <td>19000.0</td>\n",
       "      <td>1753.0</td>\n",
       "      <td>1.0</td>\n",
       "      <td>14.0</td>\n",
       "      <td>0.0</td>\n",
       "      <td>0.0</td>\n",
       "      <td>0.0</td>\n",
       "      <td>0.0</td>\n",
       "      <td>...</td>\n",
       "      <td>1.0</td>\n",
       "      <td>1.0</td>\n",
       "      <td>0.0</td>\n",
       "      <td>0.0</td>\n",
       "      <td>0.0</td>\n",
       "      <td>-10.0</td>\n",
       "      <td>-4.0</td>\n",
       "      <td>0.0</td>\n",
       "      <td>1.0</td>\n",
       "      <td>32.0</td>\n",
       "    </tr>\n",
       "    <tr>\n",
       "      <th>25%</th>\n",
       "      <td>10470283.0</td>\n",
       "      <td>1950.0</td>\n",
       "      <td>273611.0</td>\n",
       "      <td>1956.0</td>\n",
       "      <td>2.0</td>\n",
       "      <td>114.0</td>\n",
       "      <td>0.0</td>\n",
       "      <td>0.0</td>\n",
       "      <td>0.0</td>\n",
       "      <td>0.0</td>\n",
       "      <td>...</td>\n",
       "      <td>260.0</td>\n",
       "      <td>2.0</td>\n",
       "      <td>0.0</td>\n",
       "      <td>0.0</td>\n",
       "      <td>0.0</td>\n",
       "      <td>176.0</td>\n",
       "      <td>41.0</td>\n",
       "      <td>2.0</td>\n",
       "      <td>4.0</td>\n",
       "      <td>1839.0</td>\n",
       "    </tr>\n",
       "    <tr>\n",
       "      <th>50%</th>\n",
       "      <td>10561596.0</td>\n",
       "      <td>3970.0</td>\n",
       "      <td>395000.0</td>\n",
       "      <td>1978.0</td>\n",
       "      <td>3.0</td>\n",
       "      <td>170.0</td>\n",
       "      <td>0.0</td>\n",
       "      <td>0.0</td>\n",
       "      <td>1.0</td>\n",
       "      <td>0.0</td>\n",
       "      <td>...</td>\n",
       "      <td>659.0</td>\n",
       "      <td>3.0</td>\n",
       "      <td>0.0</td>\n",
       "      <td>0.0</td>\n",
       "      <td>0.0</td>\n",
       "      <td>272.0</td>\n",
       "      <td>67.0</td>\n",
       "      <td>2.0</td>\n",
       "      <td>4.0</td>\n",
       "      <td>2486.0</td>\n",
       "    </tr>\n",
       "    <tr>\n",
       "      <th>75%</th>\n",
       "      <td>10573953.0</td>\n",
       "      <td>8300.0</td>\n",
       "      <td>635000.0</td>\n",
       "      <td>2007.0</td>\n",
       "      <td>4.0</td>\n",
       "      <td>254.0</td>\n",
       "      <td>0.0</td>\n",
       "      <td>0.0</td>\n",
       "      <td>1.0</td>\n",
       "      <td>16.0</td>\n",
       "      <td>...</td>\n",
       "      <td>1448.0</td>\n",
       "      <td>4.0</td>\n",
       "      <td>0.0</td>\n",
       "      <td>0.0</td>\n",
       "      <td>1.0</td>\n",
       "      <td>406.0</td>\n",
       "      <td>111.0</td>\n",
       "      <td>3.0</td>\n",
       "      <td>6.0</td>\n",
       "      <td>3290.0</td>\n",
       "    </tr>\n",
       "    <tr>\n",
       "      <th>max</th>\n",
       "      <td>10584959.0</td>\n",
       "      <td>9992.0</td>\n",
       "      <td>11000000.0</td>\n",
       "      <td>2033.0</td>\n",
       "      <td>32.0</td>\n",
       "      <td>11000.0</td>\n",
       "      <td>1.0</td>\n",
       "      <td>6.0</td>\n",
       "      <td>1.0</td>\n",
       "      <td>1500.0</td>\n",
       "      <td>...</td>\n",
       "      <td>2400000.0</td>\n",
       "      <td>14.0</td>\n",
       "      <td>1.0</td>\n",
       "      <td>1.0</td>\n",
       "      <td>1.0</td>\n",
       "      <td>85624.0</td>\n",
       "      <td>88028.0</td>\n",
       "      <td>3.0</td>\n",
       "      <td>6.0</td>\n",
       "      <td>58824.0</td>\n",
       "    </tr>\n",
       "  </tbody>\n",
       "</table>\n",
       "<p>8 rows × 22 columns</p>\n",
       "</div>"
      ],
      "text/plain": [
       "       Property ID  Zip code   Price (€)  Construction year  Bedrooms  \\\n",
       "count      15146.0   15146.0     15146.0             9869.0   15146.0   \n",
       "mean    10481706.0    4730.0    574772.0             1974.0       3.0   \n",
       "std       200625.0    3069.0    629446.0               41.0       2.0   \n",
       "min      4611027.0    1000.0     19000.0             1753.0       1.0   \n",
       "25%     10470283.0    1950.0    273611.0             1956.0       2.0   \n",
       "50%     10561596.0    3970.0    395000.0             1978.0       3.0   \n",
       "75%     10573953.0    8300.0    635000.0             2007.0       4.0   \n",
       "max     10584959.0    9992.0  11000000.0             2033.0      32.0   \n",
       "\n",
       "       Living area (m²)  Furnished  How many fireplaces?  Terrace  \\\n",
       "count           15146.0    15146.0               15146.0  15146.0   \n",
       "mean              217.0        0.0                   0.0      1.0   \n",
       "std               208.0        0.0                   0.0      0.0   \n",
       "min                14.0        0.0                   0.0      0.0   \n",
       "25%               114.0        0.0                   0.0      0.0   \n",
       "50%               170.0        0.0                   0.0      1.0   \n",
       "75%               254.0        0.0                   0.0      1.0   \n",
       "max             11000.0        1.0                   6.0      1.0   \n",
       "\n",
       "       Terrace surface (m²)  ...  Surface of the plot (m²)  \\\n",
       "count               15146.0  ...                    9278.0   \n",
       "mean                   13.0  ...                    2731.0   \n",
       "std                    33.0  ...                   29948.0   \n",
       "min                     0.0  ...                       1.0   \n",
       "25%                     0.0  ...                     260.0   \n",
       "50%                     0.0  ...                     659.0   \n",
       "75%                    16.0  ...                    1448.0   \n",
       "max                  1500.0  ...                 2400000.0   \n",
       "\n",
       "       Number of frontages  Swimming pool  Elevator  Basement  \\\n",
       "count              11826.0        15146.0   15146.0   15146.0   \n",
       "mean                   3.0            0.0       0.0       0.0   \n",
       "std                    1.0            0.0       0.0       0.0   \n",
       "min                    1.0            0.0       0.0       0.0   \n",
       "25%                    2.0            0.0       0.0       0.0   \n",
       "50%                    3.0            0.0       0.0       0.0   \n",
       "75%                    4.0            0.0       0.0       1.0   \n",
       "max                   14.0            1.0       1.0       1.0   \n",
       "\n",
       "       Primary energy consumption (kWh/m²)  CO₂ emission (kg CO₂/m²)  \\\n",
       "count                              12316.0                    3533.0   \n",
       "mean                                 365.0                     964.0   \n",
       "std                                 1686.0                    4797.0   \n",
       "min                                  -10.0                      -4.0   \n",
       "25%                                  176.0                      41.0   \n",
       "50%                                  272.0                      67.0   \n",
       "75%                                  406.0                     111.0   \n",
       "max                                85624.0                   88028.0   \n",
       "\n",
       "       Kitchen type scale  Building condition scale  Price per m²  \n",
       "count             10515.0                   11537.0       15146.0  \n",
       "mean                  2.0                       4.0        2852.0  \n",
       "std                   1.0                       1.0        1953.0  \n",
       "min                   0.0                       1.0          32.0  \n",
       "25%                   2.0                       4.0        1839.0  \n",
       "50%                   2.0                       4.0        2486.0  \n",
       "75%                   3.0                       6.0        3290.0  \n",
       "max                   3.0                       6.0       58824.0  \n",
       "\n",
       "[8 rows x 22 columns]"
      ]
     },
     "execution_count": 5,
     "metadata": {},
     "output_type": "execute_result"
    }
   ],
   "source": [
    "import pandas as pd\n",
    "df = pd.read_csv('updated_cleaned_data.csv')\n",
    "df.describe().round()\n"
   ]
  },
  {
   "cell_type": "code",
   "execution_count": 6,
   "id": "c4c75b68",
   "metadata": {},
   "outputs": [
    {
     "data": {
      "text/plain": [
       "Property ID                                0\n",
       "Zip code                                   0\n",
       "City                                       0\n",
       "Type of Property                           0\n",
       "Subtype of Property                        0\n",
       "Price (€)                                  0\n",
       "Construction year                       5277\n",
       "Bedrooms                                   0\n",
       "Living area (m²)                           0\n",
       "Kitchen type                            4631\n",
       "Furnished                                  0\n",
       "How many fireplaces?                       0\n",
       "Terrace                                    0\n",
       "Terrace surface (m²)                       0\n",
       "Garden                                     0\n",
       "Garden surface (m²)                        0\n",
       "Surface of the plot (m²)                5868\n",
       "Number of frontages                     3320\n",
       "Swimming pool                              0\n",
       "Building condition                      3609\n",
       "Elevator                                   0\n",
       "Basement                                   0\n",
       "Primary energy consumption (kWh/m²)     2830\n",
       "CO₂ emission (kg CO₂/m²)               11613\n",
       "Energy class                            2665\n",
       "Heating type                            4150\n",
       "Kitchen type scale                      4631\n",
       "Building condition scale                3609\n",
       "Region                                     0\n",
       "Price per m²                               0\n",
       "dtype: int64"
      ]
     },
     "execution_count": 6,
     "metadata": {},
     "output_type": "execute_result"
    }
   ],
   "source": [
    "df.isnull().sum()"
   ]
  },
  {
   "cell_type": "code",
   "execution_count": 14,
   "id": "54d5221d",
   "metadata": {},
   "outputs": [
    {
     "data": {
      "text/plain": [
       "14416"
      ]
     },
     "execution_count": 14,
     "metadata": {},
     "output_type": "execute_result"
    }
   ],
   "source": [
    "df.loc[df['Swimming pool'] == 0,'Swimming pool'].count()"
   ]
  },
  {
   "cell_type": "code",
   "execution_count": 15,
   "id": "5e08329e",
   "metadata": {},
   "outputs": [
    {
     "data": {
      "text/plain": [
       "15146"
      ]
     },
     "execution_count": 15,
     "metadata": {},
     "output_type": "execute_result"
    }
   ],
   "source": [
    "df['Swimming pool'].count()"
   ]
  },
  {
   "cell_type": "code",
   "execution_count": 16,
   "id": "44b5a063",
   "metadata": {},
   "outputs": [
    {
     "data": {
      "text/plain": [
       "95.18024560940182"
      ]
     },
     "execution_count": 16,
     "metadata": {},
     "output_type": "execute_result"
    }
   ],
   "source": [
    "ratio = df.loc[df['Swimming pool'] == 0,'Swimming pool'].count() * 100/ df['Swimming pool'].count()\n",
    "ratio"
   ]
  },
  {
   "cell_type": "code",
   "execution_count": null,
   "id": "f54e88cb",
   "metadata": {},
   "outputs": [],
   "source": [
    "# def subset_by_iqr(df, column, whisker_width=1.5):\n",
    "#     \"\"\"Remove outliers from a dataframe by column, including optional \n",
    "#        whiskers, removing rows for which the column value are \n",
    "#        less than Q1-1.5IQR or greater than Q3+1.5IQR.\n",
    "#     Args:\n",
    "#         df (`:obj:pd.DataFrame`): A pandas dataframe to subset\n",
    "#         column (str): Name of the column to calculate the subset from.\n",
    "#         whisker_width (float): Optional, loosen the IQR filter by a\n",
    "#                                factor of `whisker_width` * IQR.\n",
    "#     Returns:\n",
    "#         (`:obj:pd.DataFrame`): Filtered dataframe\n",
    "#     \"\"\"\n",
    "#     # Calculate Q1, Q2 and IQR\n",
    "#     q1 = df[column].quantile(0.25)                 \n",
    "#     q3 = df[column].quantile(0.75)\n",
    "#     iqr = q3 - q1\n",
    "#     # Apply filter with respect to IQR, including optional whiskers\n",
    "#     filter = (df[column] >= q1 - whisker_width*iqr) & (df[column] <= q3 + whisker_width*iqr)\n",
    "#     return df.loc[filter]                                                     \n",
    "\n",
    "# # Example for whiskers = 1.5, as requested by the OP\n",
    "# df_filtered = subset_by_iqr(df, 'column_name', whisker_width=1.5)"
   ]
  },
  {
   "cell_type": "code",
   "execution_count": null,
   "id": "2bdc1bac",
   "metadata": {},
   "outputs": [],
   "source": [
    "# Import necessary modules\n",
    "from sklearn.linear_model import LinearRegression\n",
    "from sklearn.metrics import mean_squared_error\n",
    "from sklearn.model_selection import train_test_split\n",
    "\n",
    "# Create training and test sets\n",
    "X_train, X_test, y_train, y_test = train_test_split( X, y, test_size = 0.3, random_state=42)\n",
    "\n",
    "# Create the regressor: reg_all\n",
    "reg_all = LinearRegression()\n",
    "\n",
    "# Fit the regressor to the training data\n",
    "reg_all.fit(X_train,y_train)\n",
    "\n",
    "# Predict on the test data: y_pred\n",
    "y_pred = reg_all.predict(X_test)\n",
    "\n",
    "# Compute and print R^2 and RMSE\n",
    "print(\"R^2: {}\".format(reg_all.score(X_test, y_test)))\n",
    "rmse = np.sqrt(mean_squared_error(y_test, y_pred))\n",
    "print(\"Root Mean Squared Error: {}\".format(rmse))"
   ]
  },
  {
   "cell_type": "code",
   "execution_count": null,
   "id": "4b1b43a8",
   "metadata": {},
   "outputs": [],
   "source": [
    "from sklearn.preprocessing import MinMaxScaler\n",
    "\n",
    "scaler = MinMaxScaler() # 1\n",
    "X_train_scaled = scaler.fit_transform(X_train) # 2\n",
    "model = LinearRegression()#3\n",
    "model = model.fit(X_train_scaled, y_train)#4\n",
    "X_test_scaled = scaler.transform(X_test)#5\n",
    "y_pred = model.predict(X_test_scaled)#6\n",
    "\n",
    "# Calculate MSE (Lower better)\n",
    "mse = mean_squared_error(y_test, y_pred)\n",
    "print(\"MSE of testing set:\", mse)\n",
    "\n",
    "\n",
    "\n",
    "# Then fit the scaling on the training set\n",
    "# Convert Feature/Column with Scaler\n",
    "scaler = MinMaxScaler()\n",
    "# Note: the columns have already been selected\n",
    "X_train_scaled = scaler.fit_transform(X_train)\n",
    "\n",
    "# Calling LinearRegression\n",
    "model = LinearRegression()\n",
    "\n",
    "# Fit linearregression into training data\n",
    "model = model.fit(X_train_scaled, y_train)\n",
    "\n",
    "# Now we need to scale the test set features\n",
    "X_test_scaled = scaler.transform(X_test)\n",
    "y_pred = model.predict(X_test_scaled)\n",
    "# y has not been scaled so nothing else to do \n",
    "\n",
    "# Calculate MSE (Lower better)\n",
    "mse = mean_squared_error(y_test, y_pred)\n",
    "print(\"MSE of testing set:\", mse)"
   ]
  }
 ],
 "metadata": {
  "kernelspec": {
   "display_name": "Python 3 (ipykernel)",
   "language": "python",
   "name": "python3"
  },
  "language_info": {
   "codemirror_mode": {
    "name": "ipython",
    "version": 3
   },
   "file_extension": ".py",
   "mimetype": "text/x-python",
   "name": "python",
   "nbconvert_exporter": "python",
   "pygments_lexer": "ipython3",
   "version": "3.10.6"
  }
 },
 "nbformat": 4,
 "nbformat_minor": 5
}
